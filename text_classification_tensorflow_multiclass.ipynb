{
  "nbformat": 4,
  "nbformat_minor": 0,
  "metadata": {
    "colab": {
      "provenance": [],
      "gpuType": "T4",
      "authorship_tag": "ABX9TyPGO6AtJBN1uceD9E4YIAxH",
      "include_colab_link": true
    },
    "kernelspec": {
      "name": "python3",
      "display_name": "Python 3"
    },
    "language_info": {
      "name": "python"
    },
    "accelerator": "GPU"
  },
  "cells": [
    {
      "cell_type": "markdown",
      "metadata": {
        "id": "view-in-github",
        "colab_type": "text"
      },
      "source": [
        "<a href=\"https://colab.research.google.com/github/nihar-max/TensorFlow-Deeplearning/blob/master/text_classification_tensorflow_multiclass.ipynb\" target=\"_parent\"><img src=\"https://colab.research.google.com/assets/colab-badge.svg\" alt=\"Open In Colab\"/></a>"
      ]
    },
    {
      "cell_type": "code",
      "execution_count": null,
      "metadata": {
        "id": "oT3r2vcuCMCc"
      },
      "outputs": [],
      "source": [
        "from __future__ import absolute_import, division, print_function, unicode_literals\n",
        "\n",
        "import tensorflow as tf\n",
        "\n",
        "import os\n",
        "import datetime\n",
        "import tensorflow_hub as hub\n",
        "import numpy as np\n",
        "\n",
        "import pandas as pd\n",
        "from sklearn.model_selection import train_test_split"
      ]
    },
    {
      "cell_type": "code",
      "source": [
        "from google.colab import drive\n",
        "drive.mount('/content/drive')"
      ],
      "metadata": {
        "colab": {
          "base_uri": "https://localhost:8080/"
        },
        "id": "3XI1xz-eHpA-",
        "outputId": "797d505d-0ac6-46ec-d6b9-dbed8111636b"
      },
      "execution_count": null,
      "outputs": [
        {
          "output_type": "stream",
          "name": "stdout",
          "text": [
            "Mounted at /content/drive\n"
          ]
        }
      ]
    },
    {
      "cell_type": "code",
      "source": [
        "df=pd.read_csv('/content/drive/MyDrive/NLP Project Board Infinity Capstone/Topic_Classification/topic_classification_data.csv')"
      ],
      "metadata": {
        "id": "CD5Ad_blCems"
      },
      "execution_count": null,
      "outputs": []
    },
    {
      "cell_type": "code",
      "source": [
        "df.columns"
      ],
      "metadata": {
        "colab": {
          "base_uri": "https://localhost:8080/"
        },
        "id": "Xx9ExqEYC4Tq",
        "outputId": "f2f637be-af08-4dd0-93da-4e5d83ca55f5"
      },
      "execution_count": null,
      "outputs": [
        {
          "output_type": "execute_result",
          "data": {
            "text/plain": [
              "Index(['Unnamed: 0', 'content', 'label'], dtype='object')"
            ]
          },
          "metadata": {},
          "execution_count": 4
        }
      ]
    },
    {
      "cell_type": "code",
      "source": [
        "df.label.value_counts()"
      ],
      "metadata": {
        "colab": {
          "base_uri": "https://localhost:8080/"
        },
        "id": "-NeNhvuJQUso",
        "outputId": "bf939c6a-b1b8-47d4-e5d2-fed56d0abe5b"
      },
      "execution_count": null,
      "outputs": [
        {
          "output_type": "execute_result",
          "data": {
            "text/plain": [
              "Politics     37797\n",
              "Health       36952\n",
              "Emotion      28362\n",
              "Financial    22981\n",
              "Sport         6077\n",
              "Science       4634\n",
              "Name: label, dtype: int64"
            ]
          },
          "metadata": {},
          "execution_count": 5
        }
      ]
    },
    {
      "cell_type": "code",
      "source": [
        "df.head()"
      ],
      "metadata": {
        "colab": {
          "base_uri": "https://localhost:8080/",
          "height": 206
        },
        "id": "OHOLchhpQZf3",
        "outputId": "ea6b2099-ec59-4a96-aec1-67b8b23b63ab"
      },
      "execution_count": null,
      "outputs": [
        {
          "output_type": "execute_result",
          "data": {
            "text/plain": [
              "   Unnamed: 0                                            content      label\n",
              "0           0  I'm struggling to understand how I feel about ...    Emotion\n",
              "1           1  NEW: Modi's promise to ban plastic straws this...  Financial\n",
              "2           2  SURVEY: Middle-Income Americans Spending Less ...  Financial\n",
              "3           3  WATCH: Wall Street ended lower after bank stoc...  Financial\n",
              "4           4  Someone selling a ton of $SE puts to open Sep ...  Financial"
            ],
            "text/html": [
              "\n",
              "  <div id=\"df-e51b8e1b-3628-4959-819e-b2c6453720ee\" class=\"colab-df-container\">\n",
              "    <div>\n",
              "<style scoped>\n",
              "    .dataframe tbody tr th:only-of-type {\n",
              "        vertical-align: middle;\n",
              "    }\n",
              "\n",
              "    .dataframe tbody tr th {\n",
              "        vertical-align: top;\n",
              "    }\n",
              "\n",
              "    .dataframe thead th {\n",
              "        text-align: right;\n",
              "    }\n",
              "</style>\n",
              "<table border=\"1\" class=\"dataframe\">\n",
              "  <thead>\n",
              "    <tr style=\"text-align: right;\">\n",
              "      <th></th>\n",
              "      <th>Unnamed: 0</th>\n",
              "      <th>content</th>\n",
              "      <th>label</th>\n",
              "    </tr>\n",
              "  </thead>\n",
              "  <tbody>\n",
              "    <tr>\n",
              "      <th>0</th>\n",
              "      <td>0</td>\n",
              "      <td>I'm struggling to understand how I feel about ...</td>\n",
              "      <td>Emotion</td>\n",
              "    </tr>\n",
              "    <tr>\n",
              "      <th>1</th>\n",
              "      <td>1</td>\n",
              "      <td>NEW: Modi's promise to ban plastic straws this...</td>\n",
              "      <td>Financial</td>\n",
              "    </tr>\n",
              "    <tr>\n",
              "      <th>2</th>\n",
              "      <td>2</td>\n",
              "      <td>SURVEY: Middle-Income Americans Spending Less ...</td>\n",
              "      <td>Financial</td>\n",
              "    </tr>\n",
              "    <tr>\n",
              "      <th>3</th>\n",
              "      <td>3</td>\n",
              "      <td>WATCH: Wall Street ended lower after bank stoc...</td>\n",
              "      <td>Financial</td>\n",
              "    </tr>\n",
              "    <tr>\n",
              "      <th>4</th>\n",
              "      <td>4</td>\n",
              "      <td>Someone selling a ton of $SE puts to open Sep ...</td>\n",
              "      <td>Financial</td>\n",
              "    </tr>\n",
              "  </tbody>\n",
              "</table>\n",
              "</div>\n",
              "    <div class=\"colab-df-buttons\">\n",
              "\n",
              "  <div class=\"colab-df-container\">\n",
              "    <button class=\"colab-df-convert\" onclick=\"convertToInteractive('df-e51b8e1b-3628-4959-819e-b2c6453720ee')\"\n",
              "            title=\"Convert this dataframe to an interactive table.\"\n",
              "            style=\"display:none;\">\n",
              "\n",
              "  <svg xmlns=\"http://www.w3.org/2000/svg\" height=\"24px\" viewBox=\"0 -960 960 960\">\n",
              "    <path d=\"M120-120v-720h720v720H120Zm60-500h600v-160H180v160Zm220 220h160v-160H400v160Zm0 220h160v-160H400v160ZM180-400h160v-160H180v160Zm440 0h160v-160H620v160ZM180-180h160v-160H180v160Zm440 0h160v-160H620v160Z\"/>\n",
              "  </svg>\n",
              "    </button>\n",
              "\n",
              "  <style>\n",
              "    .colab-df-container {\n",
              "      display:flex;\n",
              "      gap: 12px;\n",
              "    }\n",
              "\n",
              "    .colab-df-convert {\n",
              "      background-color: #E8F0FE;\n",
              "      border: none;\n",
              "      border-radius: 50%;\n",
              "      cursor: pointer;\n",
              "      display: none;\n",
              "      fill: #1967D2;\n",
              "      height: 32px;\n",
              "      padding: 0 0 0 0;\n",
              "      width: 32px;\n",
              "    }\n",
              "\n",
              "    .colab-df-convert:hover {\n",
              "      background-color: #E2EBFA;\n",
              "      box-shadow: 0px 1px 2px rgba(60, 64, 67, 0.3), 0px 1px 3px 1px rgba(60, 64, 67, 0.15);\n",
              "      fill: #174EA6;\n",
              "    }\n",
              "\n",
              "    .colab-df-buttons div {\n",
              "      margin-bottom: 4px;\n",
              "    }\n",
              "\n",
              "    [theme=dark] .colab-df-convert {\n",
              "      background-color: #3B4455;\n",
              "      fill: #D2E3FC;\n",
              "    }\n",
              "\n",
              "    [theme=dark] .colab-df-convert:hover {\n",
              "      background-color: #434B5C;\n",
              "      box-shadow: 0px 1px 3px 1px rgba(0, 0, 0, 0.15);\n",
              "      filter: drop-shadow(0px 1px 2px rgba(0, 0, 0, 0.3));\n",
              "      fill: #FFFFFF;\n",
              "    }\n",
              "  </style>\n",
              "\n",
              "    <script>\n",
              "      const buttonEl =\n",
              "        document.querySelector('#df-e51b8e1b-3628-4959-819e-b2c6453720ee button.colab-df-convert');\n",
              "      buttonEl.style.display =\n",
              "        google.colab.kernel.accessAllowed ? 'block' : 'none';\n",
              "\n",
              "      async function convertToInteractive(key) {\n",
              "        const element = document.querySelector('#df-e51b8e1b-3628-4959-819e-b2c6453720ee');\n",
              "        const dataTable =\n",
              "          await google.colab.kernel.invokeFunction('convertToInteractive',\n",
              "                                                    [key], {});\n",
              "        if (!dataTable) return;\n",
              "\n",
              "        const docLinkHtml = 'Like what you see? Visit the ' +\n",
              "          '<a target=\"_blank\" href=https://colab.research.google.com/notebooks/data_table.ipynb>data table notebook</a>'\n",
              "          + ' to learn more about interactive tables.';\n",
              "        element.innerHTML = '';\n",
              "        dataTable['output_type'] = 'display_data';\n",
              "        await google.colab.output.renderOutput(dataTable, element);\n",
              "        const docLink = document.createElement('div');\n",
              "        docLink.innerHTML = docLinkHtml;\n",
              "        element.appendChild(docLink);\n",
              "      }\n",
              "    </script>\n",
              "  </div>\n",
              "\n",
              "\n",
              "<div id=\"df-120877a7-b93e-4913-a61a-d77f86ad1622\">\n",
              "  <button class=\"colab-df-quickchart\" onclick=\"quickchart('df-120877a7-b93e-4913-a61a-d77f86ad1622')\"\n",
              "            title=\"Suggest charts.\"\n",
              "            style=\"display:none;\">\n",
              "\n",
              "<svg xmlns=\"http://www.w3.org/2000/svg\" height=\"24px\"viewBox=\"0 0 24 24\"\n",
              "     width=\"24px\">\n",
              "    <g>\n",
              "        <path d=\"M19 3H5c-1.1 0-2 .9-2 2v14c0 1.1.9 2 2 2h14c1.1 0 2-.9 2-2V5c0-1.1-.9-2-2-2zM9 17H7v-7h2v7zm4 0h-2V7h2v10zm4 0h-2v-4h2v4z\"/>\n",
              "    </g>\n",
              "</svg>\n",
              "  </button>\n",
              "\n",
              "<style>\n",
              "  .colab-df-quickchart {\n",
              "      --bg-color: #E8F0FE;\n",
              "      --fill-color: #1967D2;\n",
              "      --hover-bg-color: #E2EBFA;\n",
              "      --hover-fill-color: #174EA6;\n",
              "      --disabled-fill-color: #AAA;\n",
              "      --disabled-bg-color: #DDD;\n",
              "  }\n",
              "\n",
              "  [theme=dark] .colab-df-quickchart {\n",
              "      --bg-color: #3B4455;\n",
              "      --fill-color: #D2E3FC;\n",
              "      --hover-bg-color: #434B5C;\n",
              "      --hover-fill-color: #FFFFFF;\n",
              "      --disabled-bg-color: #3B4455;\n",
              "      --disabled-fill-color: #666;\n",
              "  }\n",
              "\n",
              "  .colab-df-quickchart {\n",
              "    background-color: var(--bg-color);\n",
              "    border: none;\n",
              "    border-radius: 50%;\n",
              "    cursor: pointer;\n",
              "    display: none;\n",
              "    fill: var(--fill-color);\n",
              "    height: 32px;\n",
              "    padding: 0;\n",
              "    width: 32px;\n",
              "  }\n",
              "\n",
              "  .colab-df-quickchart:hover {\n",
              "    background-color: var(--hover-bg-color);\n",
              "    box-shadow: 0 1px 2px rgba(60, 64, 67, 0.3), 0 1px 3px 1px rgba(60, 64, 67, 0.15);\n",
              "    fill: var(--button-hover-fill-color);\n",
              "  }\n",
              "\n",
              "  .colab-df-quickchart-complete:disabled,\n",
              "  .colab-df-quickchart-complete:disabled:hover {\n",
              "    background-color: var(--disabled-bg-color);\n",
              "    fill: var(--disabled-fill-color);\n",
              "    box-shadow: none;\n",
              "  }\n",
              "\n",
              "  .colab-df-spinner {\n",
              "    border: 2px solid var(--fill-color);\n",
              "    border-color: transparent;\n",
              "    border-bottom-color: var(--fill-color);\n",
              "    animation:\n",
              "      spin 1s steps(1) infinite;\n",
              "  }\n",
              "\n",
              "  @keyframes spin {\n",
              "    0% {\n",
              "      border-color: transparent;\n",
              "      border-bottom-color: var(--fill-color);\n",
              "      border-left-color: var(--fill-color);\n",
              "    }\n",
              "    20% {\n",
              "      border-color: transparent;\n",
              "      border-left-color: var(--fill-color);\n",
              "      border-top-color: var(--fill-color);\n",
              "    }\n",
              "    30% {\n",
              "      border-color: transparent;\n",
              "      border-left-color: var(--fill-color);\n",
              "      border-top-color: var(--fill-color);\n",
              "      border-right-color: var(--fill-color);\n",
              "    }\n",
              "    40% {\n",
              "      border-color: transparent;\n",
              "      border-right-color: var(--fill-color);\n",
              "      border-top-color: var(--fill-color);\n",
              "    }\n",
              "    60% {\n",
              "      border-color: transparent;\n",
              "      border-right-color: var(--fill-color);\n",
              "    }\n",
              "    80% {\n",
              "      border-color: transparent;\n",
              "      border-right-color: var(--fill-color);\n",
              "      border-bottom-color: var(--fill-color);\n",
              "    }\n",
              "    90% {\n",
              "      border-color: transparent;\n",
              "      border-bottom-color: var(--fill-color);\n",
              "    }\n",
              "  }\n",
              "</style>\n",
              "\n",
              "  <script>\n",
              "    async function quickchart(key) {\n",
              "      const quickchartButtonEl =\n",
              "        document.querySelector('#' + key + ' button');\n",
              "      quickchartButtonEl.disabled = true;  // To prevent multiple clicks.\n",
              "      quickchartButtonEl.classList.add('colab-df-spinner');\n",
              "      try {\n",
              "        const charts = await google.colab.kernel.invokeFunction(\n",
              "            'suggestCharts', [key], {});\n",
              "      } catch (error) {\n",
              "        console.error('Error during call to suggestCharts:', error);\n",
              "      }\n",
              "      quickchartButtonEl.classList.remove('colab-df-spinner');\n",
              "      quickchartButtonEl.classList.add('colab-df-quickchart-complete');\n",
              "    }\n",
              "    (() => {\n",
              "      let quickchartButtonEl =\n",
              "        document.querySelector('#df-120877a7-b93e-4913-a61a-d77f86ad1622 button');\n",
              "      quickchartButtonEl.style.display =\n",
              "        google.colab.kernel.accessAllowed ? 'block' : 'none';\n",
              "    })();\n",
              "  </script>\n",
              "</div>\n",
              "    </div>\n",
              "  </div>\n"
            ]
          },
          "metadata": {},
          "execution_count": 6
        }
      ]
    },
    {
      "cell_type": "markdown",
      "source": [
        "### Train Test Split 80:20"
      ],
      "metadata": {
        "id": "DImbARnnFIW-"
      }
    },
    {
      "cell_type": "code",
      "source": [
        "df.dropna(inplace = True)"
      ],
      "metadata": {
        "id": "PD54qhz4fhue"
      },
      "execution_count": null,
      "outputs": []
    },
    {
      "cell_type": "code",
      "source": [
        "X_train, X_test = train_test_split(df, test_size=0.2, random_state=111)\n"
      ],
      "metadata": {
        "id": "b_M8Tq9jELnR"
      },
      "execution_count": null,
      "outputs": []
    },
    {
      "cell_type": "code",
      "source": [
        "from sklearn.utils.class_weight import compute_class_weight\n",
        "class_weights = compute_class_weight(class_weight ='balanced',classes=np.unique(df['label']),y = df['label'])\n",
        "\n",
        "## Class weight = balanced is used when we have imbalanced data"
      ],
      "metadata": {
        "id": "uDSIbQIYXSo3"
      },
      "execution_count": null,
      "outputs": []
    },
    {
      "cell_type": "code",
      "source": [
        "class_weights.sort()"
      ],
      "metadata": {
        "id": "cwsjdl_9YZlW"
      },
      "execution_count": null,
      "outputs": []
    },
    {
      "cell_type": "code",
      "source": [
        "df.label.value_counts()"
      ],
      "metadata": {
        "colab": {
          "base_uri": "https://localhost:8080/"
        },
        "id": "8PkZxrD2Z8oa",
        "outputId": "1cd5f4d6-b46b-4f8a-8b9d-4f89523798ab"
      },
      "execution_count": null,
      "outputs": [
        {
          "output_type": "execute_result",
          "data": {
            "text/plain": [
              "Politics     37797\n",
              "Health       36947\n",
              "Emotion      28362\n",
              "Financial    22981\n",
              "Sport         6077\n",
              "Science       4634\n",
              "Name: label, dtype: int64"
            ]
          },
          "metadata": {},
          "execution_count": 11
        }
      ]
    },
    {
      "cell_type": "code",
      "source": [
        "class_weights.tolist()"
      ],
      "metadata": {
        "colab": {
          "base_uri": "https://localhost:8080/"
        },
        "id": "CIzf9IjcZUif",
        "outputId": "0b178aa4-fd1e-4739-d4ab-9b950588a110"
      },
      "execution_count": null,
      "outputs": [
        {
          "output_type": "execute_result",
          "data": {
            "text/plain": [
              "[0.6032136589323668,\n",
              " 0.6170911485822034,\n",
              " 0.8038807794466775,\n",
              " 0.9921094237268469,\n",
              " 3.751796390762986,\n",
              " 4.920083441231477]"
            ]
          },
          "metadata": {},
          "execution_count": 12
        }
      ]
    },
    {
      "cell_type": "markdown",
      "source": [
        "- Note:  class_weights will assign the lesser weights to those labels which are having higher data-points and higher weights to labels with less data-points"
      ],
      "metadata": {
        "id": "RhIFGd7DaANJ"
      }
    },
    {
      "cell_type": "markdown",
      "source": [
        "### Assign these weights to dict with index"
      ],
      "metadata": {
        "id": "bXc8HwRIdgOx"
      }
    },
    {
      "cell_type": "code",
      "source": [
        "weights={}\n",
        "\n",
        "\n",
        "for index, weight in enumerate(class_weights) :\n",
        "  weights[index]=weight\n",
        "\n",
        "weights"
      ],
      "metadata": {
        "colab": {
          "base_uri": "https://localhost:8080/"
        },
        "id": "F1xzgwCBZX9R",
        "outputId": "02d2df1b-2c8c-4ad3-8c64-1566f3b004a1"
      },
      "execution_count": null,
      "outputs": [
        {
          "output_type": "execute_result",
          "data": {
            "text/plain": [
              "{0: 0.6032136589323668,\n",
              " 1: 0.6170911485822034,\n",
              " 2: 0.8038807794466775,\n",
              " 3: 0.9921094237268469,\n",
              " 4: 3.751796390762986,\n",
              " 5: 4.920083441231477}"
            ]
          },
          "metadata": {},
          "execution_count": 13
        }
      ]
    },
    {
      "cell_type": "code",
      "source": [
        "df.columns"
      ],
      "metadata": {
        "colab": {
          "base_uri": "https://localhost:8080/"
        },
        "id": "CBe35yT5eHyV",
        "outputId": "89f6086b-35bf-4a7a-9b99-79a039d6e212"
      },
      "execution_count": null,
      "outputs": [
        {
          "output_type": "execute_result",
          "data": {
            "text/plain": [
              "Index(['Unnamed: 0', 'content', 'label'], dtype='object')"
            ]
          },
          "metadata": {},
          "execution_count": 14
        }
      ]
    },
    {
      "cell_type": "code",
      "source": [
        "dataset_train = tf.data.Dataset.from_tensor_slices((X_train['content'].values, X_train['label'].values))\n",
        "dataset_test = tf.data.Dataset.from_tensor_slices((X_test['content'].values, X_test['label'].values))"
      ],
      "metadata": {
        "id": "y2BDFbg4dpRy"
      },
      "execution_count": null,
      "outputs": []
    },
    {
      "cell_type": "code",
      "source": [
        "for text, target in dataset_train.take(5):\n",
        "  print ('content: {}, Target: {}'.format(text, target))"
      ],
      "metadata": {
        "colab": {
          "base_uri": "https://localhost:8080/"
        },
        "id": "fxRWx4hveggv",
        "outputId": "ac254e1d-294d-4cce-ce5d-6c6c9e61d26f"
      },
      "execution_count": null,
      "outputs": [
        {
          "output_type": "stream",
          "name": "stdout",
          "text": [
            "content: b'What are the signs and symptoms of Ghosal hematodiaphyseal dysplasia syndrome? The Human Phenotype Ontology provides the following list of signs and symptoms for Ghosal hematodiaphyseal dysplasia syndrome. If the information is available, the table below includes how often the symptom is seen in people with this condition. You can use the MedlinePlus Medical Dictionary to look up the definitions for these medical terms. Signs and Symptoms Approximate number of patients (when available) Abnormal cortical bone morphology 90% Abnormal form of the vertebral bodies 90% Abnormality of immune system physiology 90% Abnormality of pelvic girdle bone morphology 90% Abnormality of the femur 90% Abnormality of the metaphyses 90% Abnormality of the tibia 90% Bowing of the long bones 90% Craniofacial hyperostosis 90% Neurological speech impairment 7.5% Splenomegaly 7.5% Hyperostosis cranialis interna 5% Leukopenia 5% Autosomal recessive inheritance - Bone marrow hypocellularity - Diaphyseal dysplasia - Increased bone mineral density - Myelofibrosis - Phenotypic variability - Refractory anemia - Thrombocytopenia - The Human Phenotype Ontology (HPO) has collected information on how often a sign or symptom occurs in a condition. Much of this information comes from Orphanet, a European rare disease database. The frequency of a sign or symptom is usually listed as a rough estimate of the percentage of patients who have that feature. The frequency may also be listed as a fraction. The first number of the fraction is how many people had the symptom, and the second number is the total number of people who were examined in one study. For example, a frequency of 25/25 means that in a study of 25 people all patients were found to have that symptom. Because these frequencies are based on a specific study, the fractions may be different if another group of patients are examined. Sometimes, no information on frequency is available. In these cases, the sign or symptom may be rare or common.', Target: b'Health'\n",
            "content: b\"Hi guys, I'm a student from Europe. I would kindly appreciate if you could answer my short survey.\", Target: b'Health'\n",
            "content: b'when a very close friend with whom i have a very intimate and bodily relationship he had a girlfriend started to avoid me and didnt want to talk to me any more', Target: b'Emotion'\n",
            "content: b'These resources address the diagnosis or management of DRPLA:  - Gene Review: Gene Review: DRPLA  - Genetic Testing Registry: Dentatorubral pallidoluysian atrophy  - MedlinePlus Encyclopedia: Dementia  - MedlinePlus Encyclopedia: Epilepsy   These resources from MedlinePlus offer information about the diagnosis and management of various health conditions:  - Diagnostic Tests  - Drug Therapy  - Surgery and Rehabilitation  - Genetic Counseling   - Palliative Care', Target: b'Health'\n",
            "content: b\"Al Gore says climate crisis and coronavirus 'linked': Pollution makes preconditions worse\", Target: b'Politics'\n"
          ]
        }
      ]
    },
    {
      "cell_type": "code",
      "source": [
        "for text, target in dataset_test.take(5):\n",
        "  print ('content: {}, Target: {}'.format(text, target))"
      ],
      "metadata": {
        "colab": {
          "base_uri": "https://localhost:8080/"
        },
        "id": "rvHKA3_3f5SH",
        "outputId": "e9967dfa-32a9-44b2-eebd-82222ef6e912"
      },
      "execution_count": null,
      "outputs": [
        {
          "output_type": "stream",
          "name": "stdout",
          "text": [
            "content: b'French Open Winner!', Target: b'Sport'\n",
            "content: b'In the days leading up to the Super Bowl, there will be plenty of talk about the Baltimore Ravens and the San Francisco 49ersBaltimore vs. San Francisco: A Health Showdown', Target: b'Health'\n",
            "content: b'Open the curtains to let sunlight in Spend the first 30-60 minutes after waking outside or in a room with bright lights EncourageMorning Mood: Why Some People Wake Up Grumpy', Target: b'Health'\n",
            "content: b\"This month's top 10 list pulls evenly from the worlds of rock and pop.  On the former front, you've got bands like Bastille, Imagine Dragons, and NONONO.  On the latter, you've got dancefloor divas like Lady GaGa, Rihanna, and Katy Perry.The Top 10 Workout Songs for November 2013\", Target: b'Health'\n",
            "content: b\"There's not too much public appetite to see Republicans take another shot at repealing Obamacare.Barely Anyone Is Mourning The Demise Of The GOP's Health Care Bill\", Target: b'Politics'\n"
          ]
        }
      ]
    },
    {
      "cell_type": "markdown",
      "source": [
        "### Convert Target label into Numerical representation using lookup.StaticHashTable"
      ],
      "metadata": {
        "id": "-4zRmF1XhrJb"
      }
    },
    {
      "cell_type": "code",
      "source": [
        "df.label.value_counts()"
      ],
      "metadata": {
        "colab": {
          "base_uri": "https://localhost:8080/"
        },
        "id": "nwShus_KiBL3",
        "outputId": "b0a33b1f-6aad-4793-a56c-ecfe998a1ba0"
      },
      "execution_count": null,
      "outputs": [
        {
          "output_type": "execute_result",
          "data": {
            "text/plain": [
              "Politics     37797\n",
              "Health       36947\n",
              "Emotion      28362\n",
              "Financial    22981\n",
              "Sport         6077\n",
              "Science       4634\n",
              "Name: label, dtype: int64"
            ]
          },
          "metadata": {},
          "execution_count": 18
        }
      ]
    },
    {
      "cell_type": "code",
      "source": [
        "table = tf.lookup.StaticHashTable(\n",
        "    initializer=tf.lookup.KeyValueTensorInitializer(\n",
        "        keys=tf.constant(['Politics', 'Health', 'Emotion', 'Financial', 'Sport','Science']),\n",
        "        values=tf.constant([0, 1, 2, 3, 4, 5]),\n",
        "    ),\n",
        "    default_value=tf.constant(-1),\n",
        "    name=\"target_encoding\"\n",
        ")\n",
        "\n",
        "@tf.function\n",
        "def target(x):\n",
        "  return table.lookup(x)"
      ],
      "metadata": {
        "id": "8hzYRp6dgDPj"
      },
      "execution_count": null,
      "outputs": []
    },
    {
      "cell_type": "code",
      "source": [
        "def show_batch(dataset, size=5):\n",
        "  for batch, label in dataset.take(size):\n",
        "      print(batch.numpy())\n",
        "      print(target(label).numpy())"
      ],
      "metadata": {
        "id": "B81hSAvOgICF"
      },
      "execution_count": null,
      "outputs": []
    },
    {
      "cell_type": "code",
      "source": [
        "print(show_batch(dataset_test,6))"
      ],
      "metadata": {
        "colab": {
          "base_uri": "https://localhost:8080/"
        },
        "id": "BtxCWcfCix4e",
        "outputId": "6f9acc16-c734-42dc-affd-0a83755d3c55"
      },
      "execution_count": null,
      "outputs": [
        {
          "output_type": "stream",
          "name": "stdout",
          "text": [
            "b'French Open Winner!'\n",
            "4\n",
            "b'In the days leading up to the Super Bowl, there will be plenty of talk about the Baltimore Ravens and the San Francisco 49ersBaltimore vs. San Francisco: A Health Showdown'\n",
            "1\n",
            "b'Open the curtains to let sunlight in Spend the first 30-60 minutes after waking outside or in a room with bright lights EncourageMorning Mood: Why Some People Wake Up Grumpy'\n",
            "1\n",
            "b\"This month's top 10 list pulls evenly from the worlds of rock and pop.  On the former front, you've got bands like Bastille, Imagine Dragons, and NONONO.  On the latter, you've got dancefloor divas like Lady GaGa, Rihanna, and Katy Perry.The Top 10 Workout Songs for November 2013\"\n",
            "1\n",
            "b\"There's not too much public appetite to see Republicans take another shot at repealing Obamacare.Barely Anyone Is Mourning The Demise Of The GOP's Health Care Bill\"\n",
            "0\n",
            "b'\"When you\\'re given a project like this, you look at the universe of hazards,\" said Mansour Samadpour, CEO of IEH Laboratories, which was hired by Chipotle to tighten its procedures.Chipotle Tweaks Cooking Methods After E. Coli Outbreak'\n",
            "3\n",
            "None\n"
          ]
        }
      ]
    },
    {
      "cell_type": "code",
      "source": [
        "def fetch(text, labels):\n",
        "  return text, tf.one_hot(target(labels),6)\n",
        "\n",
        "# One hot encoding for labels"
      ],
      "metadata": {
        "id": "qGQgNYchizfg"
      },
      "execution_count": null,
      "outputs": []
    },
    {
      "cell_type": "code",
      "source": [
        "train_data_f=dataset_train.map(fetch)\n",
        "test_data_f=dataset_test.map(fetch)"
      ],
      "metadata": {
        "id": "WUaSkyAilfgS"
      },
      "execution_count": null,
      "outputs": []
    },
    {
      "cell_type": "code",
      "source": [
        "next(iter(train_data_f))"
      ],
      "metadata": {
        "colab": {
          "base_uri": "https://localhost:8080/"
        },
        "id": "Wa-ceAojlkiE",
        "outputId": "bd4a365e-650f-4b31-c4b2-8bb4e097ff03"
      },
      "execution_count": null,
      "outputs": [
        {
          "output_type": "execute_result",
          "data": {
            "text/plain": [
              "(<tf.Tensor: shape=(), dtype=string, numpy=b'What are the signs and symptoms of Ghosal hematodiaphyseal dysplasia syndrome? The Human Phenotype Ontology provides the following list of signs and symptoms for Ghosal hematodiaphyseal dysplasia syndrome. If the information is available, the table below includes how often the symptom is seen in people with this condition. You can use the MedlinePlus Medical Dictionary to look up the definitions for these medical terms. Signs and Symptoms Approximate number of patients (when available) Abnormal cortical bone morphology 90% Abnormal form of the vertebral bodies 90% Abnormality of immune system physiology 90% Abnormality of pelvic girdle bone morphology 90% Abnormality of the femur 90% Abnormality of the metaphyses 90% Abnormality of the tibia 90% Bowing of the long bones 90% Craniofacial hyperostosis 90% Neurological speech impairment 7.5% Splenomegaly 7.5% Hyperostosis cranialis interna 5% Leukopenia 5% Autosomal recessive inheritance - Bone marrow hypocellularity - Diaphyseal dysplasia - Increased bone mineral density - Myelofibrosis - Phenotypic variability - Refractory anemia - Thrombocytopenia - The Human Phenotype Ontology (HPO) has collected information on how often a sign or symptom occurs in a condition. Much of this information comes from Orphanet, a European rare disease database. The frequency of a sign or symptom is usually listed as a rough estimate of the percentage of patients who have that feature. The frequency may also be listed as a fraction. The first number of the fraction is how many people had the symptom, and the second number is the total number of people who were examined in one study. For example, a frequency of 25/25 means that in a study of 25 people all patients were found to have that symptom. Because these frequencies are based on a specific study, the fractions may be different if another group of patients are examined. Sometimes, no information on frequency is available. In these cases, the sign or symptom may be rare or common.'>,\n",
              " <tf.Tensor: shape=(6,), dtype=float32, numpy=array([0., 1., 0., 0., 0., 0.], dtype=float32)>)"
            ]
          },
          "metadata": {},
          "execution_count": 24
        }
      ]
    },
    {
      "cell_type": "code",
      "source": [
        "train_data, train_labels = next(iter(train_data_f.batch(5)))\n",
        "train_data, train_labels"
      ],
      "metadata": {
        "colab": {
          "base_uri": "https://localhost:8080/"
        },
        "id": "1XGhVWoKloqZ",
        "outputId": "8cd3ec4d-4d6e-41ec-8c61-a69d86b1a68d"
      },
      "execution_count": null,
      "outputs": [
        {
          "output_type": "execute_result",
          "data": {
            "text/plain": [
              "(<tf.Tensor: shape=(5,), dtype=string, numpy=\n",
              " array([b'What are the signs and symptoms of Ghosal hematodiaphyseal dysplasia syndrome? The Human Phenotype Ontology provides the following list of signs and symptoms for Ghosal hematodiaphyseal dysplasia syndrome. If the information is available, the table below includes how often the symptom is seen in people with this condition. You can use the MedlinePlus Medical Dictionary to look up the definitions for these medical terms. Signs and Symptoms Approximate number of patients (when available) Abnormal cortical bone morphology 90% Abnormal form of the vertebral bodies 90% Abnormality of immune system physiology 90% Abnormality of pelvic girdle bone morphology 90% Abnormality of the femur 90% Abnormality of the metaphyses 90% Abnormality of the tibia 90% Bowing of the long bones 90% Craniofacial hyperostosis 90% Neurological speech impairment 7.5% Splenomegaly 7.5% Hyperostosis cranialis interna 5% Leukopenia 5% Autosomal recessive inheritance - Bone marrow hypocellularity - Diaphyseal dysplasia - Increased bone mineral density - Myelofibrosis - Phenotypic variability - Refractory anemia - Thrombocytopenia - The Human Phenotype Ontology (HPO) has collected information on how often a sign or symptom occurs in a condition. Much of this information comes from Orphanet, a European rare disease database. The frequency of a sign or symptom is usually listed as a rough estimate of the percentage of patients who have that feature. The frequency may also be listed as a fraction. The first number of the fraction is how many people had the symptom, and the second number is the total number of people who were examined in one study. For example, a frequency of 25/25 means that in a study of 25 people all patients were found to have that symptom. Because these frequencies are based on a specific study, the fractions may be different if another group of patients are examined. Sometimes, no information on frequency is available. In these cases, the sign or symptom may be rare or common.',\n",
              "        b\"Hi guys, I'm a student from Europe. I would kindly appreciate if you could answer my short survey.\",\n",
              "        b'when a very close friend with whom i have a very intimate and bodily relationship he had a girlfriend started to avoid me and didnt want to talk to me any more',\n",
              "        b'These resources address the diagnosis or management of DRPLA:  - Gene Review: Gene Review: DRPLA  - Genetic Testing Registry: Dentatorubral pallidoluysian atrophy  - MedlinePlus Encyclopedia: Dementia  - MedlinePlus Encyclopedia: Epilepsy   These resources from MedlinePlus offer information about the diagnosis and management of various health conditions:  - Diagnostic Tests  - Drug Therapy  - Surgery and Rehabilitation  - Genetic Counseling   - Palliative Care',\n",
              "        b\"Al Gore says climate crisis and coronavirus 'linked': Pollution makes preconditions worse\"],\n",
              "       dtype=object)>,\n",
              " <tf.Tensor: shape=(5, 6), dtype=float32, numpy=\n",
              " array([[0., 1., 0., 0., 0., 0.],\n",
              "        [0., 1., 0., 0., 0., 0.],\n",
              "        [0., 0., 1., 0., 0., 0.],\n",
              "        [0., 1., 0., 0., 0., 0.],\n",
              "        [1., 0., 0., 0., 0., 0.]], dtype=float32)>)"
            ]
          },
          "metadata": {},
          "execution_count": 25
        }
      ]
    },
    {
      "cell_type": "markdown",
      "source": [
        "### Model Creation"
      ],
      "metadata": {
        "id": "lOOiCeBDm_C8"
      }
    },
    {
      "cell_type": "code",
      "source": [
        "embedding = \"https://tfhub.dev/google/tf2-preview/nnlm-en-dim128/1\"\n",
        "## This is token based pre-trained embedding layer from google\n",
        "## If we use this then we dont need to add any tokenizing parameter\n",
        "# This will automatically tokenize\n",
        "hub_layer = hub.KerasLayer(embedding, output_shape=[128], input_shape=[],\n",
        "                           dtype=tf.string, trainable=True)\n",
        "hub_layer(train_data[:1])"
      ],
      "metadata": {
        "colab": {
          "base_uri": "https://localhost:8080/"
        },
        "id": "bugAxx9MmAZG",
        "outputId": "6042e0e0-c35b-4004-e2e8-2430e99dec0d"
      },
      "execution_count": null,
      "outputs": [
        {
          "output_type": "execute_result",
          "data": {
            "text/plain": [
              "<tf.Tensor: shape=(1, 128), dtype=float32, numpy=\n",
              "array([[ 1.2053051 , -0.08322185, -0.05423499,  0.17402476, -0.21350299,\n",
              "        -0.02764736,  0.05173753,  0.17013885, -0.07923746,  0.36298877,\n",
              "         0.51904446,  0.00687981, -0.21523206,  0.03835091, -0.42452356,\n",
              "        -0.34027886, -0.16229816, -0.11779678, -0.7106336 ,  1.3692514 ,\n",
              "         0.4675015 ,  0.4009955 ,  0.06179972, -0.3235033 ,  0.23394756,\n",
              "         0.24553956,  0.11262168,  0.15114212, -0.31338844,  0.17913602,\n",
              "         0.34809113, -0.06872581,  0.14297883, -0.36870715,  0.10842151,\n",
              "         0.11336714,  0.0268288 , -0.37192115,  0.2038767 ,  0.19604897,\n",
              "        -0.4874661 , -0.33968228, -0.1736156 , -0.1789945 ,  0.23409852,\n",
              "         0.05984085, -0.2895584 , -0.05227894, -0.58570474, -0.03630695,\n",
              "         0.5857808 , -0.00930684,  0.52927077,  0.01397437,  0.41049212,\n",
              "        -0.01233702,  0.25621188, -0.00622909,  0.37954834,  0.3421283 ,\n",
              "         0.21881713,  0.21780081,  0.09485367, -0.41357788, -0.09060962,\n",
              "        -0.09056026,  0.17536509, -0.1564324 ,  0.83942455,  0.5371464 ,\n",
              "        -0.06983244,  0.15814443,  0.2844934 , -0.19912003,  0.06091528,\n",
              "         0.18215266, -0.3703973 ,  0.07799766, -0.09504976,  0.02182287,\n",
              "         0.36969653, -0.33668974, -0.16950901, -0.02007239, -0.15195093,\n",
              "        -0.14400709, -0.40412334,  0.0961679 ,  0.34226292,  0.2311763 ,\n",
              "        -0.21363671,  0.24915776,  0.15080467, -0.10863829,  0.03467281,\n",
              "        -0.16563003, -0.43046498, -0.1804327 , -0.47211662,  0.24931782,\n",
              "        -0.03862721,  0.38261703, -0.31066498,  0.35986117,  0.30589783,\n",
              "        -0.19301024, -0.27576673, -0.21545462, -0.13109165,  0.09293675,\n",
              "        -0.08086227, -0.14674133, -0.13285013, -0.36043257, -0.09442176,\n",
              "        -0.4882637 ,  0.2762312 ,  0.00965948,  0.2679157 ,  0.23601827,\n",
              "         0.15312815, -0.1265434 ,  0.17971306, -0.32600108, -0.28258514,\n",
              "        -0.08455836, -0.2695339 ,  0.13970466]], dtype=float32)>"
            ]
          },
          "metadata": {},
          "execution_count": 26
        }
      ]
    },
    {
      "cell_type": "code",
      "source": [
        "model = tf.keras.Sequential()\n",
        "model.add(hub_layer)\n",
        "# Hub layer is embeded layer we are using above\n",
        "for units in [128, 128, 64 , 32]:\n",
        "  # 4 hidden layers\n",
        "  model.add(tf.keras.layers.Dense(units, activation='relu'))\n",
        "  model.add(tf.keras.layers.Dropout(0.3))\n",
        "  # Dropout of 30% in each hidden layer\n",
        "model.add(tf.keras.layers.Dense(6, activation='softmax'))\n",
        "# Softmax activation for multiclass classification\n",
        "\n",
        "model.summary()"
      ],
      "metadata": {
        "colab": {
          "base_uri": "https://localhost:8080/"
        },
        "id": "OOGHkBlOmJNb",
        "outputId": "6ea40c85-f8ea-4ef2-a138-a92433392ae2"
      },
      "execution_count": null,
      "outputs": [
        {
          "output_type": "stream",
          "name": "stdout",
          "text": [
            "Model: \"sequential\"\n",
            "_________________________________________________________________\n",
            " Layer (type)                Output Shape              Param #   \n",
            "=================================================================\n",
            " keras_layer (KerasLayer)    (None, 128)               124642688 \n",
            "                                                                 \n",
            " dense (Dense)               (None, 128)               16512     \n",
            "                                                                 \n",
            " dropout (Dropout)           (None, 128)               0         \n",
            "                                                                 \n",
            " dense_1 (Dense)             (None, 128)               16512     \n",
            "                                                                 \n",
            " dropout_1 (Dropout)         (None, 128)               0         \n",
            "                                                                 \n",
            " dense_2 (Dense)             (None, 64)                8256      \n",
            "                                                                 \n",
            " dropout_2 (Dropout)         (None, 64)                0         \n",
            "                                                                 \n",
            " dense_3 (Dense)             (None, 32)                2080      \n",
            "                                                                 \n",
            " dropout_3 (Dropout)         (None, 32)                0         \n",
            "                                                                 \n",
            " dense_4 (Dense)             (None, 6)                 198       \n",
            "                                                                 \n",
            "=================================================================\n",
            "Total params: 124686246 (475.64 MB)\n",
            "Trainable params: 124686246 (475.64 MB)\n",
            "Non-trainable params: 0 (0.00 Byte)\n",
            "_________________________________________________________________\n"
          ]
        }
      ]
    },
    {
      "cell_type": "code",
      "source": [
        "\n",
        "model.compile(optimizer='adam',\n",
        "              loss=tf.keras.losses.CategoricalCrossentropy(from_logits=True),\n",
        "              metrics=['accuracy'])"
      ],
      "metadata": {
        "id": "IKZZ1_iyoytQ"
      },
      "execution_count": null,
      "outputs": []
    },
    {
      "cell_type": "code",
      "source": [
        "train_data_f=train_data_f.shuffle(100000).batch(512)\n",
        "test_data_f=test_data_f.batch(512)"
      ],
      "metadata": {
        "id": "px_C9vkjo1EQ"
      },
      "execution_count": null,
      "outputs": []
    },
    {
      "cell_type": "code",
      "source": [
        "history = model.fit(train_data_f,\n",
        "                    epochs=4,\n",
        "                    validation_data=test_data_f,\n",
        "                    verbose=1,\n",
        "                    class_weight=weights)\n",
        "\n",
        "## Class_weight = weights for the assigned weight scores for all labels to treat them equal\n",
        "# When we use class_weights then it use weighted cross entropy func in tensorflow"
      ],
      "metadata": {
        "colab": {
          "base_uri": "https://localhost:8080/"
        },
        "id": "DSXrwKjoq4Eu",
        "outputId": "d670e6f4-c420-4bc9-9300-29f668026d53"
      },
      "execution_count": null,
      "outputs": [
        {
          "output_type": "stream",
          "name": "stdout",
          "text": [
            "Epoch 1/4\n"
          ]
        },
        {
          "output_type": "stream",
          "name": "stderr",
          "text": [
            "/usr/local/lib/python3.10/dist-packages/keras/src/backend.py:5562: UserWarning: \"`categorical_crossentropy` received `from_logits=True`, but the `output` argument was produced by a Softmax activation and thus does not represent logits. Was this intended?\n",
            "  output, from_logits = _get_logits(\n"
          ]
        },
        {
          "output_type": "stream",
          "name": "stdout",
          "text": [
            "214/214 [==============================] - 82s 322ms/step - loss: 0.8548 - accuracy: 0.7222 - val_loss: 0.4019 - val_accuracy: 0.8723\n",
            "Epoch 2/4\n",
            "214/214 [==============================] - 50s 221ms/step - loss: 0.3523 - accuracy: 0.8990 - val_loss: 0.3897 - val_accuracy: 0.8786\n",
            "Epoch 3/4\n",
            "214/214 [==============================] - 52s 231ms/step - loss: 0.2013 - accuracy: 0.9402 - val_loss: 0.3737 - val_accuracy: 0.8963\n",
            "Epoch 4/4\n",
            "214/214 [==============================] - 40s 177ms/step - loss: 0.1273 - accuracy: 0.9619 - val_loss: 0.4395 - val_accuracy: 0.8906\n"
          ]
        }
      ]
    },
    {
      "cell_type": "markdown",
      "source": [
        "- Train Acc: 96%\n",
        "- Test Acc:  89%"
      ],
      "metadata": {
        "id": "bWTIINsPspgE"
      }
    },
    {
      "cell_type": "code",
      "source": [
        "len(list(dataset_test))"
      ],
      "metadata": {
        "colab": {
          "base_uri": "https://localhost:8080/"
        },
        "id": "wvKDx5CSq5uD",
        "outputId": "161c1748-5484-4f5f-e08a-32b5a4854275"
      },
      "execution_count": null,
      "outputs": [
        {
          "output_type": "execute_result",
          "data": {
            "text/plain": [
              "27360"
            ]
          },
          "metadata": {},
          "execution_count": 31
        }
      ]
    },
    {
      "cell_type": "code",
      "source": [
        "results = model.evaluate(dataset_test.map(fetch).batch(27360), verbose=2)\n",
        "\n",
        "print(results)"
      ],
      "metadata": {
        "colab": {
          "base_uri": "https://localhost:8080/"
        },
        "id": "p25UK9fntP20",
        "outputId": "5c074e82-6df4-4923-e00d-18297addb910"
      },
      "execution_count": null,
      "outputs": [
        {
          "output_type": "stream",
          "name": "stdout",
          "text": [
            "1/1 - 1s - loss: 0.4395 - accuracy: 0.8906 - 1s/epoch - 1s/step\n",
            "[0.43951743841171265, 0.8905701637268066]\n"
          ]
        }
      ]
    },
    {
      "cell_type": "code",
      "source": [
        "test_data, test_labels = next(iter(dataset_test.map(fetch).batch(45963)))\n",
        "\n",
        "y_pred=model.predict(test_data)"
      ],
      "metadata": {
        "colab": {
          "base_uri": "https://localhost:8080/"
        },
        "id": "O9LNsUrZtfqo",
        "outputId": "907d394f-a38d-4f68-a456-77fb85a14fc9"
      },
      "execution_count": null,
      "outputs": [
        {
          "output_type": "stream",
          "name": "stdout",
          "text": [
            "855/855 [==============================] - 6s 7ms/step\n"
          ]
        }
      ]
    },
    {
      "cell_type": "code",
      "source": [
        "from sklearn.metrics import classification_report\n",
        "\n",
        "print(classification_report(test_labels.numpy().argmax(axis=1), y_pred.argmax(axis=1)))"
      ],
      "metadata": {
        "colab": {
          "base_uri": "https://localhost:8080/"
        },
        "id": "m8rbJ9mVuDGi",
        "outputId": "2e559e54-aafa-41f0-aa4b-b58a11282614"
      },
      "execution_count": null,
      "outputs": [
        {
          "output_type": "stream",
          "name": "stdout",
          "text": [
            "              precision    recall  f1-score   support\n",
            "\n",
            "           0       0.91      0.90      0.91      7525\n",
            "           1       0.93      0.88      0.90      7275\n",
            "           2       0.95      0.96      0.96      5825\n",
            "           3       0.85      0.86      0.86      4541\n",
            "           4       0.80      0.85      0.83      1228\n",
            "           5       0.50      0.69      0.58       966\n",
            "\n",
            "    accuracy                           0.89     27360\n",
            "   macro avg       0.83      0.86      0.84     27360\n",
            "weighted avg       0.90      0.89      0.89     27360\n",
            "\n"
          ]
        }
      ]
    },
    {
      "cell_type": "code",
      "source": [
        "from sklearn.metrics import confusion_matrix\n",
        "confusion_matrix(test_labels.numpy().argmax(axis=1), y_pred.argmax(axis=1))"
      ],
      "metadata": {
        "id": "5Jykt6pUuLKH",
        "outputId": "163dbdae-72b2-4a49-9eb3-35849c38a6bb",
        "colab": {
          "base_uri": "https://localhost:8080/"
        }
      },
      "execution_count": null,
      "outputs": [
        {
          "output_type": "execute_result",
          "data": {
            "text/plain": [
              "array([[6780,  112,   43,  313,  141,  136],\n",
              "       [ 164, 6383,  149,  218,   41,  320],\n",
              "       [  25,   75, 5595,   40,   16,   74],\n",
              "       [ 292,  152,   55, 3888,   44,  110],\n",
              "       [  88,   28,   10,   32, 1049,   21],\n",
              "       [  63,  108,   40,   61,   23,  671]])"
            ]
          },
          "metadata": {},
          "execution_count": 35
        }
      ]
    },
    {
      "cell_type": "code",
      "source": [],
      "metadata": {
        "id": "YRZEDGrluOed"
      },
      "execution_count": null,
      "outputs": []
    }
  ]
}